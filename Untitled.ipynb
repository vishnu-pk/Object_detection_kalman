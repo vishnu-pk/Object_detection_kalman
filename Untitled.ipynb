{
 "cells": [
  {
   "cell_type": "code",
   "execution_count": 1,
   "metadata": {},
   "outputs": [
    {
     "name": "stdout",
     "output_type": "stream",
     "text": [
      "2.1.0\n"
     ]
    }
   ],
   "source": [
    "import numpy as np\n",
    "#import tensorflow as tf\n",
    "\n",
    "#print (tf.__version__)"
   ]
  },
  {
   "cell_type": "code",
   "execution_count": 6,
   "metadata": {},
   "outputs": [],
   "source": [
    "# Convolutional lNeural Network\n",
    "def forward_naive(x,w,b,conv_param):\n",
    "    N,C,H,W = x.shape\n",
    "    F,_,HH,WW = w.shape\n",
    "    stride,pad = conv_param['stride'], conv_param['pad']\n",
    "    H_out = 1 +  (H + 2 * pad - HH)\n",
    "    W_out = 1 + (W + 2 * pad - WW)\n",
    "    out = np.zeros((N,F,H_out,W_out))\n",
    "    pad_widths = ((0,),(0,),(pad,),(pad,))\n",
    "    xpad = np.pad(x,pad_widths,'constant')\n",
    "    Npad,Cpad,Hpad,Wpad = xpad.shape\n",
    "    \n",
    "    for n in range(N):\n",
    "        for f in range(F):\n",
    "            for i in range (0,Hpad - (HH - 1), stride):\n",
    "                for j in range (0,Wpad-(WW -1), stride):\n",
    "                    prod = np.sum(np.multiply(w[f,...],xpad[n,:,i:i+HH,j:j+WW]))\n",
    "                    out[n,f, inr(i/stride), int(j/stride)] = prod + b[f]\n",
    "    cache = (x,w,b,conv_param)\n",
    "    return out,cache\n"
   ]
  },
  {
   "cell_type": "code",
   "execution_count": 7,
   "metadata": {},
   "outputs": [],
   "source": [
    "def pool_naive(x,pool_param):\n",
    "    \n",
    "    Hp = pool_param['pool_height']\n",
    "    Wp = pool_param['pool_width']\n",
    "    S = pool_param['stride']\n",
    "    N, C, H, W = x.shape\n",
    "    H1 = (H-Hp)// S+1\n",
    "    W1 = (W-Wp)// S+1\n",
    "    out = np.zeros((N,C,H1,W1))\n",
    "    for n in range(N):\n",
    "        for c in range(C):\n",
    "            for k in range(H1):\n",
    "                for l in range(W1):\n",
    "                    out[n,c,k,l] = np.max(x[n, c, k *S:k * S + Hp, l *S:l *S +Wp])\n",
    "    cache = (x,pool_param)\n",
    "    return out, cache"
   ]
  },
  {
   "cell_type": "code",
   "execution_count": 4,
   "metadata": {},
   "outputs": [],
   "source": [
    "def conv_backward_naive(dout, cache):\n",
    "    dx,dw,db = None, None, None\n",
    "    x,w,b,cov_param = cache\n",
    "    N,C,H,W = x.shape\n",
    "    F,_,HH,WW = w.shape\n",
    "    _, _, Hout,Wout = dout.shape\n",
    "    pad, stride = conv_param['pad'], conv_param['stride']\n",
    "    pad_widths +((0,),(0,),(pad,),(pad,))\n",
    "    xpad = np.pad(x,pad_widths, 'constant')\n",
    "    dxpad = np.zeros_like(xpad)\n",
    "    dw=np.zeros_like(w)\n",
    "    db=np.zeros_like(b)\n",
    "    for n in range(N):\n",
    "        for f in range(F):\n",
    "            db[f] +=np.sum(dout[n,f])\n",
    "        for i in range(Hout):\n",
    "            for j in range(Wout):\n",
    "                dw[f] +=xpad[n, :, i*stride:i*stride+HH, j*stride:j*stride+WW] * dout[n,f,i,Hout,Wout]\n",
    "                dxpad[n, :, i*stride:i*stride+HH,j*stride:j*stride+WW] += w[f] * dout[n,f,i,Hout,Wout]\n",
    "    dx = dxpad[:,:,pad:pad+H, pad:pad+W]\n",
    "    return dx,dw,db"
   ]
  },
  {
   "cell_type": "code",
   "execution_count": 8,
   "metadata": {},
   "outputs": [],
   "source": [
    "def softmax_loss(x, y):\n",
    "  probs = np.exp(x - np.max(x, axis=1, keepdims=True))\n",
    "  probs /= np.sum(probs, axis=1, keepdims=True)\n",
    "  N = x.shape[0]\n",
    "  loss = -np.sum(np.log(probs[np.arange(N), y])) / N\n",
    "  dx = probs.copy()\n",
    "  dx[np.arange(N), y] -= 1\n",
    "  dx /= N\n",
    "  return loss, dx"
   ]
  },
  {
   "cell_type": "code",
   "execution_count": 9,
   "metadata": {},
   "outputs": [],
   "source": [
    "def svm_loss(x, y):\n",
    "  N = x.shape[0]\n",
    "  correct_class_scores = x[np.arange(N), y]\n",
    "  margins = np.maximum(0, x - correct_class_scores[:, np.newaxis] + 1.0)\n",
    "  margins[np.arange(N), y] = 0\n",
    "  loss = np.sum(margins) / N\n",
    "  num_pos = np.sum(margins > 0, axis=1)\n",
    "  dx = np.zeros_like(x)\n",
    "  dx[margins > 0] = 1\n",
    "  dx[np.arange(N), y] -= num_pos\n",
    "  dx /= N\n",
    "  return loss, dx"
   ]
  },
  {
   "cell_type": "code",
   "execution_count": 10,
   "metadata": {},
   "outputs": [],
   "source": [
    "def max_pool_backward_naive(dout, cache):\n",
    "  dx = None\n",
    "  (x, pool_param) = cache\n",
    "  (N, C, H, W) = x.shape\n",
    "  pool_height = pool_param['pool_height']\n",
    "  pool_width = pool_param['pool_width']\n",
    "  stride = pool_param['stride']\n",
    "  H_prime = 1 + (H - pool_height) / stride\n",
    "  W_prime = 1 + (W - pool_width) / stride\n",
    "\n",
    "  dx = np.zeros_like(x)\n",
    "\n",
    "  for n in xrange(N):\n",
    "    for c in xrange(C):\n",
    "      for h in xrange(H_prime):\n",
    "        for w in xrange(W_prime):\n",
    "          h1 = h * stride\n",
    "          h2 = h * stride + pool_height\n",
    "          w1 = w * stride\n",
    "          w2 = w * stride + pool_width\n",
    "          window = x[n, c, h1:h2, w1:w2]\n",
    "          window2 = np.reshape(window, (pool_height*pool_width))\n",
    "          window3 = np.zeros_like(window2)\n",
    "          window3[np.argmax(window2)] = 1\n",
    "\n",
    "          dx[n,c,h1:h2,w1:w2] = np.reshape(window3,(pool_height,pool_width)) * dout[n,c,h,w]\n",
    "  return dx"
   ]
  },
  {
   "cell_type": "code",
   "execution_count": 11,
   "metadata": {},
   "outputs": [],
   "source": [
    "def max_pool_forward_naive(x, pool_param):\n",
    "  out = None\n",
    "  (N, C, H, W) = x.shape\n",
    "  pool_height = pool_param['pool_height']\n",
    "  pool_width = pool_param['pool_width']\n",
    "  stride = pool_param['stride']\n",
    "  H_prime = 1 + (H - pool_height) / stride\n",
    "  W_prime = 1 + (W - pool_width) / stride\n",
    "\n",
    "  out = np.zeros((N, C, H_prime, W_prime))\n",
    "\n",
    "  for n in xrange(N):\n",
    "    for h in xrange(H_prime):\n",
    "      for w in xrange(W_prime):\n",
    "        h1 = h * stride\n",
    "        h2 = h * stride + pool_height\n",
    "        w1 = w * stride\n",
    "        w2 = w * stride + pool_width\n",
    "        window = x[n, :, h1:h2, w1:w2]\n",
    "        out[n,:,h,w] = np.max(window.reshape((C, pool_height*pool_width)), axis=1)\n",
    "  cache = (x, pool_param)\n",
    "  return out, cache"
   ]
  },
  {
   "cell_type": "code",
   "execution_count": 12,
   "metadata": {},
   "outputs": [],
   "source": [
    "def conv_forward_naive(x, w, b, conv_param):\n",
    "  out = None\n",
    "  (N, C, H, W) = x.shape\n",
    "  (F, _, HH, WW) = w.shape\n",
    "  stride = conv_param['stride']\n",
    "  pad = conv_param['pad']\n",
    "  H_prime = 1 + (H + 2 * pad - HH) / stride\n",
    "  W_prime = 1 + (W + 2 * pad - WW) / stride\n",
    "  out = np.zeros((N, F, H_prime, W_prime))\n",
    "\n",
    "  for n in xrange(N):\n",
    "    x_pad = np.pad(x[n,:,:,:], ((0,0),(pad,pad),(pad,pad)), 'constant')\n",
    "    for f in xrange(F):\n",
    "      for h_prime in xrange(H_prime):\n",
    "        for w_prime in xrange(W_prime):\n",
    "          h1 = h_prime * stride\n",
    "          h2 = h_prime * stride + HH\n",
    "          w1 = w_prime * stride\n",
    "          w2 = w_prime * stride + WW\n",
    "          window = x_pad[:, h1:h2, w1:w2]\n",
    "          out[n, f, h_prime, w_prime] = np.sum(window * w[f,:,:,:]) + b[f]\n",
    "  cache = (x, w, b, conv_param)\n",
    "  return out, cache"
   ]
  },
  {
   "cell_type": "code",
   "execution_count": 13,
   "metadata": {},
   "outputs": [],
   "source": [
    "def relu_backward(dout, cache):\n",
    "\n",
    "  dx, x = None, cache\n",
    "  dx = np.array(dout, copy=True)\n",
    "  dx[x <= 0] = 0\n",
    "  return dx"
   ]
  },
  {
   "cell_type": "code",
   "execution_count": 14,
   "metadata": {},
   "outputs": [],
   "source": [
    "def relu_forward(x):\n",
    "  out = None\n",
    "  out = np.maximum(0, x)\n",
    "  cache = x\n",
    "  return out, cache"
   ]
  },
  {
   "cell_type": "code",
   "execution_count": 15,
   "metadata": {},
   "outputs": [],
   "source": [
    "def affine_backward(dout, cache):\n",
    "  x, w, b = cache\n",
    "  dx, dw, db = None, None, None\n",
    "  N = x.shape[0]\n",
    "  D = np.prod(x.shape[1:])\n",
    "  x2 = np.reshape(x, (N, D))\n",
    "\n",
    "  dx2 = np.dot(dout, w.T) # N x D\n",
    "  dw = np.dot(x2.T, dout) # D x M\n",
    "  db = np.dot(dout.T, np.ones(N)) # M x 1\n",
    "\n",
    "  dx = np.reshape(dx2, x.shape)\n",
    "  return dx, dw, db"
   ]
  },
  {
   "cell_type": "code",
   "execution_count": 16,
   "metadata": {},
   "outputs": [],
   "source": [
    "def affine_forward(x, w, b):\n",
    "  out = None\n",
    "  N = x.shape[0]\n",
    "  D = np.prod(x.shape[1:])\n",
    "  x2 = np.reshape(x, (N, D))\n",
    "  out = np.dot(x2, w) + b\n",
    "  cache = (x, w, b)\n",
    "  return out, cache"
   ]
  },
  {
   "cell_type": "code",
   "execution_count": null,
   "metadata": {},
   "outputs": [],
   "source": []
  }
 ],
 "metadata": {
  "kernelspec": {
   "display_name": "Python 3",
   "language": "python",
   "name": "python3"
  },
  "language_info": {
   "codemirror_mode": {
    "name": "ipython",
    "version": 3
   },
   "file_extension": ".py",
   "mimetype": "text/x-python",
   "name": "python",
   "nbconvert_exporter": "python",
   "pygments_lexer": "ipython3",
   "version": "3.6.10"
  }
 },
 "nbformat": 4,
 "nbformat_minor": 4
}
